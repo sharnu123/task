{
 "cells": [
  {
   "cell_type": "code",
   "execution_count": 7,
   "id": "09eee006",
   "metadata": {},
   "outputs": [
    {
     "name": "stdout",
     "output_type": "stream",
     "text": [
      "HELLO WORLD\n"
     ]
    }
   ],
   "source": [
    "a = 'hello world'\n",
    "print(a.upper())"
   ]
  },
  {
   "cell_type": "code",
   "execution_count": 8,
   "id": "5a12d292",
   "metadata": {},
   "outputs": [
    {
     "name": "stdout",
     "output_type": "stream",
     "text": [
      "[1, 2, 3, 4, 5, 'sharnu']\n",
      "[1, 2, 3, 4, 5, 'sharnu']\n"
     ]
    }
   ],
   "source": [
    "shar_list=[1,2,3,4,5,\"sharnu\"]\n",
    "shar_1_list=shar_list.copy()\n",
    "print(shar_list)\n",
    "print(shar_1_list)"
   ]
  },
  {
   "cell_type": "code",
   "execution_count": 12,
   "id": "a0a646b2",
   "metadata": {},
   "outputs": [
    {
     "name": "stdout",
     "output_type": "stream",
     "text": [
      "[1, 2, 3, 4, 5, 'sharnu', 'rabbit']\n",
      "[1, 2, 3, 4, 5, 'sharnu', 'snake']\n"
     ]
    }
   ],
   "source": [
    "shar_list=[1,2,3,4,5,\"sharnu\"]\n",
    "shar_1_list=shar_list.copy()\n",
    "shar_1_list.append(\"snake\")\n",
    "shar_list.append(\"rabbit\")\n",
    "print(shar_list) \n",
    "print(shar_1_list)\n"
   ]
  },
  {
   "cell_type": "code",
   "execution_count": 13,
   "id": "492363da",
   "metadata": {},
   "outputs": [
    {
     "name": "stdout",
     "output_type": "stream",
     "text": [
      "[1, 2, 5, 3, 4, 5, 'sharnu']\n"
     ]
    }
   ],
   "source": [
    "shar_list=[1,2,3,4,5,\"sharnu\"]\n",
    "shar_list.insert(2,5)\n",
    "print(shar_list)\n"
   ]
  },
  {
   "cell_type": "code",
   "execution_count": null,
   "id": "93b0929b",
   "metadata": {},
   "outputs": [],
   "source": []
  },
  {
   "cell_type": "code",
   "execution_count": null,
   "id": "8c6c04e3",
   "metadata": {},
   "outputs": [],
   "source": []
  },
  {
   "cell_type": "code",
   "execution_count": null,
   "id": "c3d7ccd8",
   "metadata": {},
   "outputs": [],
   "source": []
  },
  {
   "cell_type": "code",
   "execution_count": null,
   "id": "a108c629",
   "metadata": {},
   "outputs": [],
   "source": []
  },
  {
   "cell_type": "code",
   "execution_count": null,
   "id": "6afd71a5",
   "metadata": {},
   "outputs": [],
   "source": []
  }
 ],
 "metadata": {
  "kernelspec": {
   "display_name": "Python 3",
   "language": "python",
   "name": "python3"
  },
  "language_info": {
   "codemirror_mode": {
    "name": "ipython",
    "version": 3
   },
   "file_extension": ".py",
   "mimetype": "text/x-python",
   "name": "python",
   "nbconvert_exporter": "python",
   "pygments_lexer": "ipython3",
   "version": "3.8.8"
  }
 },
 "nbformat": 4,
 "nbformat_minor": 5
}
