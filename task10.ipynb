{
 "cells": [
  {
   "cell_type": "code",
   "execution_count": 4,
   "id": "5da9574e",
   "metadata": {},
   "outputs": [
    {
     "data": {
      "text/plain": [
       "'PASS - pass keyword helps us to get through with the code when there is nothing for the output'"
      ]
     },
     "execution_count": 4,
     "metadata": {},
     "output_type": "execute_result"
    }
   ],
   "source": [
    "'''PASS - pass keyword helps us to get through with the code when there is nothing for the output'''"
   ]
  },
  {
   "cell_type": "code",
   "execution_count": 7,
   "id": "3d83aa6b",
   "metadata": {},
   "outputs": [],
   "source": [
    "if (4>2):\n",
    "     pass"
   ]
  },
  {
   "cell_type": "code",
   "execution_count": 8,
   "id": "65dd030c",
   "metadata": {},
   "outputs": [
    {
     "name": "stdout",
     "output_type": "stream",
     "text": [
      "0\n",
      "1\n",
      "2\n",
      "3\n",
      "4\n",
      "6\n",
      "7\n",
      "8\n",
      "9\n"
     ]
    }
   ],
   "source": [
    "#CONTINUE - This keyword helps us to skip a particular iteration while working with the loops.\n",
    "for i in range(10):\n",
    "    if(i==5):\n",
    "        continue\n",
    "    else:\n",
    "        print(i)"
   ]
  },
  {
   "cell_type": "code",
   "execution_count": 9,
   "id": "7cd344ac",
   "metadata": {},
   "outputs": [
    {
     "name": "stdout",
     "output_type": "stream",
     "text": [
      "10\n",
      "9\n",
      "8\n",
      "7\n",
      "6\n",
      "5\n",
      "4\n",
      "3\n",
      "2\n",
      "1\n"
     ]
    }
   ],
   "source": [
    "n=10\n",
    "while(n!=0):\n",
    "    print(n)\n",
    "    n=n-1"
   ]
  },
  {
   "cell_type": "code",
   "execution_count": 10,
   "id": "50909ea4",
   "metadata": {},
   "outputs": [
    {
     "name": "stdout",
     "output_type": "stream",
     "text": [
      "List\n",
      "1\n",
      "2\n",
      "a\n",
      "34.5\n",
      "\n",
      "Tuple\n",
      "1\n",
      "2\n",
      "3\n",
      "4\n",
      "5\n",
      "\n",
      "Dictionary\n",
      "18\n",
      "7\n",
      "10\n"
     ]
    }
   ],
   "source": [
    "l1=[1,2,'a',34.5]\n",
    "t1=(1,2,3,4,5)\n",
    "dict={'Virat':18,'Dhoni':7,'Sachin':10}\n",
    "print(\"List\")\n",
    "for i in l1:\n",
    "    print(i)\n",
    "print(\"\\nTuple\")\n",
    "for i in t1:\n",
    "    print(i)\n",
    "print(\"\\nDictionary\")\n",
    "vals=list(dict.values())\n",
    "for i in vals:\n",
    "    print(i)"
   ]
  },
  {
   "cell_type": "code",
   "execution_count": null,
   "id": "8c12a2a1",
   "metadata": {},
   "outputs": [],
   "source": []
  },
  {
   "cell_type": "code",
   "execution_count": null,
   "id": "055fca47",
   "metadata": {},
   "outputs": [],
   "source": []
  }
 ],
 "metadata": {
  "kernelspec": {
   "display_name": "Python 3",
   "language": "python",
   "name": "python3"
  },
  "language_info": {
   "codemirror_mode": {
    "name": "ipython",
    "version": 3
   },
   "file_extension": ".py",
   "mimetype": "text/x-python",
   "name": "python",
   "nbconvert_exporter": "python",
   "pygments_lexer": "ipython3",
   "version": "3.8.8"
  }
 },
 "nbformat": 4,
 "nbformat_minor": 5
}
